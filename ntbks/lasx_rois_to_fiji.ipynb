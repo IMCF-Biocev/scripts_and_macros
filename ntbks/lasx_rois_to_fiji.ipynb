{
 "cells": [
  {
   "cell_type": "markdown",
   "metadata": {},
   "source": [
    "### Convert ROIs from LASX roi file to ROIs generated via ImageJ macro \n",
    "\n",
    "**input:**\n",
    "Path to LASX .roi file\n",
    "\n",
    "**output:**\n",
    "ImageJ macro file (.ijm) \n",
    "\n",
    "#### How to run:\n",
    "- Specify path to LAS X generated ROIs file in: *file_path = r'roi_file.roi'*\n",
    "- Run all cells.\n",
    "- Output roi_file_fiji_rois.ijm will be created in same directory as input file."
   ]
  },
  {
   "cell_type": "code",
   "execution_count": 19,
   "metadata": {},
   "outputs": [],
   "source": [
    "# load packages\n",
    "\n",
    "from xml.etree import ElementTree\n",
    "import re\n",
    "import os"
   ]
  },
  {
   "cell_type": "code",
   "execution_count": 58,
   "metadata": {},
   "outputs": [],
   "source": [
    "# defined functions\n",
    "\n",
    "# Function to read the file content\n",
    "def read_file_as_text(file_path):\n",
    "    try:\n",
    "        with open(file_path, 'r') as file:\n",
    "            return file.read()\n",
    "    except Exception as e:\n",
    "        return str(e)\n",
    "    \n",
    "# Function to extract X, Y coordinates from ROI\n",
    "def extract_roi_coordinates(element):\n",
    "    attachment = element.find('.//Attachment[@Name=\"ROIPixelSaveInfo\"]')\n",
    "    if attachment is not None:\n",
    "        points = attachment.findall('.//P')\n",
    "        coordinates = []\n",
    "        for point in points:\n",
    "            x = point.get('X')\n",
    "            y = point.get('Y')\n",
    "            coordinates.append((x, y))\n",
    "        return coordinates\n",
    "    return None\n",
    "\n",
    "# Extracting coordinates for all ROIs\n",
    "def extract_all_rois(root_element):\n",
    "    makepolygon_strings = []\n",
    "    for element in root_element.iter('Element'):\n",
    "        if 'ROI.' in element.get('Name'):\n",
    "            roi_coordinates = extract_roi_coordinates(element)\n",
    "            if roi_coordinates:\n",
    "                makepolygon_str = \"makePolygon(\" + ','.join(f\"{x},{y}\" for x, y in roi_coordinates) + \")\"\n",
    "                makepolygon_strings.append(makepolygon_str)\n",
    "    return makepolygon_strings\n",
    "    \n",
    "def main(file_path):\n",
    "    # Read file and parse XML content\n",
    "    xml_content = read_file_as_text(file_path)\n",
    "    tree = ElementTree.ElementTree(ElementTree.fromstring(xml_content))\n",
    "    root = tree.getroot()\n",
    "\n",
    "    # Get path info\n",
    "    parent_path = os.path.dirname(file_path)\n",
    "    filename = os.path.basename(file_path).rstrip('.roi')\n",
    "\n",
    "    # Define the path for saving the file\n",
    "    macro_file = filename + '_fiji_rois.ijm'\n",
    "    save_path = os.path.join(parent_path, macro_file)\n",
    "\n",
    "    # Extract ROIs\n",
    "    imagej_rois = extract_all_rois(root)\n",
    "    n_rois = len(imagej_rois)\n",
    "\n",
    "    # Prepare macro text\n",
    "    content = ''\n",
    "    for i in imagej_rois:\n",
    "        content += f\"{i};\\n\"\n",
    "        content += 'roiManager(\"Add\");\\n'\n",
    "\n",
    "    # Write the content to the file\n",
    "    with open(save_path, 'w') as f:\n",
    "        f.write(content)\n",
    "\n",
    "    print(f'File {macro_file} saved.')"
   ]
  },
  {
   "cell_type": "code",
   "execution_count": 59,
   "metadata": {},
   "outputs": [
    {
     "name": "stdout",
     "output_type": "stream",
     "text": [
      "File iu_fiji_rois.ijm saved.\n"
     ]
    }
   ],
   "source": [
    "# Set path to file\n",
    "file_path = r'..\\Projects_documentation\\iu.roi'  # example\n",
    "\n",
    "# Run code\n",
    "if __name__ == \"__main__\":\n",
    "    main(file_path)"
   ]
  }
 ],
 "metadata": {
  "kernelspec": {
   "display_name": "python0523",
   "language": "python",
   "name": "python3"
  },
  "language_info": {
   "codemirror_mode": {
    "name": "ipython",
    "version": 3
   },
   "file_extension": ".py",
   "mimetype": "text/x-python",
   "name": "python",
   "nbconvert_exporter": "python",
   "pygments_lexer": "ipython3",
   "version": "3.10.12"
  }
 },
 "nbformat": 4,
 "nbformat_minor": 2
}
